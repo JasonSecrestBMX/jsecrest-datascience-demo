{
 "cells": [
  {
   "attachments": {},
   "cell_type": "markdown",
   "metadata": {},
   "source": [
    "# Crash 2 Dataset\n",
    "\n",
    "## Data Supplier\n",
    "\n",
    "This data was supplied by the Vanderbilt Department of Biostatistics at http://hbiostat.org/data/ accessed in Jan 2023.\n",
    "\n",
    "Vanderbilt obtained this data from a clinical trial dataset originally provided by the  Bank of Injury and Emergency Research Data from the UK.\n",
    "\n",
    "## Data Description\n",
    "This data represents patients in a clinical trail who received treatment after physical trauma.\n",
    "- 20207 observations and 44 variables\n",
    "- **Full data source description** can be accessed at http://hbiostat.org/data/repo/crash2.html or in this project's data folder in [crash2.html](./data/crash2.hml).\n",
    "- **Data dictionary** available at http://hbiostat.org/data/repo/Ccrash2.html or in this project's data folder in [Ccrash2.hml](./data/Ccrash2.hml)"
   ]
  },
  {
   "cell_type": "code",
   "execution_count": null,
   "metadata": {},
   "outputs": [],
   "source": [
    "import os\n",
    "print(os.getcwd())"
   ]
  }
 ],
 "metadata": {
  "language_info": {
   "name": "python"
  },
  "orig_nbformat": 4
 },
 "nbformat": 4,
 "nbformat_minor": 2
}
